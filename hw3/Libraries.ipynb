{
 "cells": [
  {
   "cell_type": "code",
   "execution_count": null,
   "id": "0a2ab621-50f6-4e19-8c87-0f0bc1302a4b",
   "metadata": {},
   "outputs": [],
   "source": [
    "pip install torch transformers\n",
    "pip install gensim\n",
    "pip install scikit-learn\n",
    "pip install matplotlib\n",
    "pip install https://s3-us-west-2.amazonaws.com/ai2-s2-scispacy/releases/v0.5.1/en_ner_bc5cdr_md-0.5.1.tar.gz\n",
    "conda update scipy\n"
   ]
  },
  {
   "cell_type": "code",
   "execution_count": 2,
   "id": "a444a6fa-5a2c-43fe-a9a1-53df112a4c31",
   "metadata": {},
   "outputs": [
    {
     "name": "stdout",
     "output_type": "stream",
     "text": [
      "Collecting scispacy\n",
      "  Using cached scispacy-0.5.5-py3-none-any.whl.metadata (18 kB)\n",
      "Collecting spacy<3.8.0,>=3.7.0 (from scispacy)\n",
      "  Using cached spacy-3.7.5-cp311-cp311-macosx_11_0_arm64.whl.metadata (27 kB)\n",
      "Requirement already satisfied: scipy in /Users/devanshkochar/anaconda3/lib/python3.11/site-packages (from scispacy) (1.13.1)\n",
      "Requirement already satisfied: requests<3.0.0,>=2.0.0 in /Users/devanshkochar/anaconda3/lib/python3.11/site-packages (from scispacy) (2.32.3)\n",
      "Requirement already satisfied: conllu in /Users/devanshkochar/anaconda3/lib/python3.11/site-packages (from scispacy) (6.0.0)\n",
      "Requirement already satisfied: numpy in /Users/devanshkochar/anaconda3/lib/python3.11/site-packages (from scispacy) (1.23.5)\n",
      "Requirement already satisfied: joblib in /Users/devanshkochar/anaconda3/lib/python3.11/site-packages (from scispacy) (1.4.2)\n",
      "Requirement already satisfied: scikit-learn>=0.20.3 in /Users/devanshkochar/anaconda3/lib/python3.11/site-packages (from scispacy) (1.6.1)\n",
      "Requirement already satisfied: pysbd in /Users/devanshkochar/anaconda3/lib/python3.11/site-packages (from scispacy) (0.3.4)\n",
      "Requirement already satisfied: nmslib-metabrainz==2.1.3 in /Users/devanshkochar/anaconda3/lib/python3.11/site-packages (from scispacy) (2.1.3)\n",
      "Requirement already satisfied: pybind11>=2.2.3 in /Users/devanshkochar/anaconda3/lib/python3.11/site-packages (from nmslib-metabrainz==2.1.3->scispacy) (2.13.6)\n",
      "Requirement already satisfied: psutil in /Users/devanshkochar/anaconda3/lib/python3.11/site-packages (from nmslib-metabrainz==2.1.3->scispacy) (5.9.0)\n",
      "Requirement already satisfied: charset-normalizer<4,>=2 in /Users/devanshkochar/anaconda3/lib/python3.11/site-packages (from requests<3.0.0,>=2.0.0->scispacy) (3.3.2)\n",
      "Requirement already satisfied: idna<4,>=2.5 in /Users/devanshkochar/anaconda3/lib/python3.11/site-packages (from requests<3.0.0,>=2.0.0->scispacy) (3.7)\n",
      "Requirement already satisfied: urllib3<3,>=1.21.1 in /Users/devanshkochar/anaconda3/lib/python3.11/site-packages (from requests<3.0.0,>=2.0.0->scispacy) (2.2.2)\n",
      "Requirement already satisfied: certifi>=2017.4.17 in /Users/devanshkochar/anaconda3/lib/python3.11/site-packages (from requests<3.0.0,>=2.0.0->scispacy) (2025.1.31)\n",
      "Requirement already satisfied: threadpoolctl>=3.1.0 in /Users/devanshkochar/anaconda3/lib/python3.11/site-packages (from scikit-learn>=0.20.3->scispacy) (3.5.0)\n",
      "Requirement already satisfied: spacy-legacy<3.1.0,>=3.0.11 in /Users/devanshkochar/anaconda3/lib/python3.11/site-packages (from spacy<3.8.0,>=3.7.0->scispacy) (3.0.12)\n",
      "Requirement already satisfied: spacy-loggers<2.0.0,>=1.0.0 in /Users/devanshkochar/anaconda3/lib/python3.11/site-packages (from spacy<3.8.0,>=3.7.0->scispacy) (1.0.5)\n",
      "Requirement already satisfied: murmurhash<1.1.0,>=0.28.0 in /Users/devanshkochar/anaconda3/lib/python3.11/site-packages (from spacy<3.8.0,>=3.7.0->scispacy) (1.0.12)\n",
      "Requirement already satisfied: cymem<2.1.0,>=2.0.2 in /Users/devanshkochar/anaconda3/lib/python3.11/site-packages (from spacy<3.8.0,>=3.7.0->scispacy) (2.0.11)\n",
      "Requirement already satisfied: preshed<3.1.0,>=3.0.2 in /Users/devanshkochar/anaconda3/lib/python3.11/site-packages (from spacy<3.8.0,>=3.7.0->scispacy) (3.0.9)\n",
      "Collecting thinc<8.3.0,>=8.2.2 (from spacy<3.8.0,>=3.7.0->scispacy)\n",
      "  Using cached thinc-8.2.5-cp311-cp311-macosx_11_0_arm64.whl.metadata (15 kB)\n",
      "Requirement already satisfied: wasabi<1.2.0,>=0.9.1 in /Users/devanshkochar/anaconda3/lib/python3.11/site-packages (from spacy<3.8.0,>=3.7.0->scispacy) (0.10.1)\n",
      "Requirement already satisfied: srsly<3.0.0,>=2.4.3 in /Users/devanshkochar/anaconda3/lib/python3.11/site-packages (from spacy<3.8.0,>=3.7.0->scispacy) (2.5.1)\n",
      "Requirement already satisfied: catalogue<2.1.0,>=2.0.6 in /Users/devanshkochar/anaconda3/lib/python3.11/site-packages (from spacy<3.8.0,>=3.7.0->scispacy) (2.0.10)\n",
      "Requirement already satisfied: weasel<0.5.0,>=0.1.0 in /Users/devanshkochar/anaconda3/lib/python3.11/site-packages (from spacy<3.8.0,>=3.7.0->scispacy) (0.3.4)\n",
      "Requirement already satisfied: typer<1.0.0,>=0.3.0 in /Users/devanshkochar/anaconda3/lib/python3.11/site-packages (from spacy<3.8.0,>=3.7.0->scispacy) (0.7.0)\n",
      "Requirement already satisfied: tqdm<5.0.0,>=4.38.0 in /Users/devanshkochar/anaconda3/lib/python3.11/site-packages (from spacy<3.8.0,>=3.7.0->scispacy) (4.66.4)\n",
      "Requirement already satisfied: pydantic!=1.8,!=1.8.1,<3.0.0,>=1.7.4 in /Users/devanshkochar/anaconda3/lib/python3.11/site-packages (from spacy<3.8.0,>=3.7.0->scispacy) (2.10.6)\n",
      "Requirement already satisfied: jinja2 in /Users/devanshkochar/anaconda3/lib/python3.11/site-packages (from spacy<3.8.0,>=3.7.0->scispacy) (3.1.4)\n",
      "Requirement already satisfied: setuptools in /Users/devanshkochar/anaconda3/lib/python3.11/site-packages (from spacy<3.8.0,>=3.7.0->scispacy) (75.8.0)\n",
      "Requirement already satisfied: packaging>=20.0 in /Users/devanshkochar/anaconda3/lib/python3.11/site-packages (from spacy<3.8.0,>=3.7.0->scispacy) (24.1)\n",
      "Requirement already satisfied: langcodes<4.0.0,>=3.2.0 in /Users/devanshkochar/anaconda3/lib/python3.11/site-packages (from spacy<3.8.0,>=3.7.0->scispacy) (3.5.0)\n",
      "Requirement already satisfied: language-data>=1.2 in /Users/devanshkochar/anaconda3/lib/python3.11/site-packages (from langcodes<4.0.0,>=3.2.0->spacy<3.8.0,>=3.7.0->scispacy) (1.3.0)\n",
      "Requirement already satisfied: annotated-types>=0.6.0 in /Users/devanshkochar/anaconda3/lib/python3.11/site-packages (from pydantic!=1.8,!=1.8.1,<3.0.0,>=1.7.4->spacy<3.8.0,>=3.7.0->scispacy) (0.6.0)\n",
      "Requirement already satisfied: pydantic-core==2.27.2 in /Users/devanshkochar/anaconda3/lib/python3.11/site-packages (from pydantic!=1.8,!=1.8.1,<3.0.0,>=1.7.4->spacy<3.8.0,>=3.7.0->scispacy) (2.27.2)\n",
      "Requirement already satisfied: typing-extensions>=4.12.2 in /Users/devanshkochar/anaconda3/lib/python3.11/site-packages (from pydantic!=1.8,!=1.8.1,<3.0.0,>=1.7.4->spacy<3.8.0,>=3.7.0->scispacy) (4.12.2)\n",
      "Collecting blis<0.8.0,>=0.7.8 (from thinc<8.3.0,>=8.2.2->spacy<3.8.0,>=3.7.0->scispacy)\n",
      "  Using cached blis-0.7.11-cp311-cp311-macosx_11_0_arm64.whl.metadata (7.4 kB)\n",
      "Requirement already satisfied: confection<1.0.0,>=0.0.1 in /Users/devanshkochar/anaconda3/lib/python3.11/site-packages (from thinc<8.3.0,>=8.2.2->spacy<3.8.0,>=3.7.0->scispacy) (0.1.5)\n",
      "Requirement already satisfied: click<9.0.0,>=7.1.1 in /Users/devanshkochar/anaconda3/lib/python3.11/site-packages (from typer<1.0.0,>=0.3.0->spacy<3.8.0,>=3.7.0->scispacy) (8.1.7)\n",
      "Requirement already satisfied: cloudpathlib<0.17.0,>=0.7.0 in /Users/devanshkochar/anaconda3/lib/python3.11/site-packages (from weasel<0.5.0,>=0.1.0->spacy<3.8.0,>=3.7.0->scispacy) (0.16.0)\n",
      "Requirement already satisfied: smart-open<7.0.0,>=5.2.1 in /Users/devanshkochar/anaconda3/lib/python3.11/site-packages (from weasel<0.5.0,>=0.1.0->spacy<3.8.0,>=3.7.0->scispacy) (6.4.0)\n",
      "Requirement already satisfied: MarkupSafe>=2.0 in /Users/devanshkochar/anaconda3/lib/python3.11/site-packages (from jinja2->spacy<3.8.0,>=3.7.0->scispacy) (2.1.3)\n",
      "Requirement already satisfied: marisa-trie>=1.1.0 in /Users/devanshkochar/anaconda3/lib/python3.11/site-packages (from language-data>=1.2->langcodes<4.0.0,>=3.2.0->spacy<3.8.0,>=3.7.0->scispacy) (1.2.1)\n",
      "Using cached scispacy-0.5.5-py3-none-any.whl (46 kB)\n",
      "Using cached spacy-3.7.5-cp311-cp311-macosx_11_0_arm64.whl (6.5 MB)\n",
      "Using cached thinc-8.2.5-cp311-cp311-macosx_11_0_arm64.whl (773 kB)\n",
      "Using cached blis-0.7.11-cp311-cp311-macosx_11_0_arm64.whl (1.1 MB)\n",
      "Installing collected packages: blis, thinc, spacy, scispacy\n",
      "  Attempting uninstall: blis\n",
      "    Found existing installation: blis 1.2.0\n",
      "    Uninstalling blis-1.2.0:\n",
      "      Successfully uninstalled blis-1.2.0\n",
      "  Attempting uninstall: thinc\n",
      "    Found existing installation: thinc 8.3.4\n",
      "    Uninstalling thinc-8.3.4:\n",
      "      Successfully uninstalled thinc-8.3.4\n",
      "  Attempting uninstall: spacy\n",
      "    Found existing installation: spacy 3.8.4\n",
      "    Uninstalling spacy-3.8.4:\n",
      "      Successfully uninstalled spacy-3.8.4\n",
      "Successfully installed blis-0.7.11 scispacy-0.5.5 spacy-3.7.5 thinc-8.2.5\n",
      "Note: you may need to restart the kernel to use updated packages.\n"
     ]
    }
   ],
   "source": [
    "pip install scispacy"
   ]
  },
  {
   "cell_type": "code",
   "execution_count": 4,
   "id": "14c0f028-0819-4b48-973f-1a0d601aabc3",
   "metadata": {},
   "outputs": [
    {
     "name": "stdout",
     "output_type": "stream",
     "text": [
      "Name: spacy\n",
      "Version: 3.4.4\n",
      "Summary: Industrial-strength Natural Language Processing (NLP) in Python\n",
      "Home-page: https://spacy.io\n",
      "Author: Explosion\n",
      "Author-email: contact@explosion.ai\n",
      "License: MIT\n",
      "Location: /Users/devanshkochar/anaconda3/lib/python3.11/site-packages\n",
      "Requires: catalogue, cymem, jinja2, langcodes, murmurhash, numpy, packaging, pathy, preshed, pydantic, requests, setuptools, smart-open, spacy-legacy, spacy-loggers, srsly, thinc, tqdm, typer, wasabi\n",
      "Required-by: en-core-web-sm, en_ner_bc5cdr_md, scispacy, spacy-transformers\n",
      "---\n",
      "Name: scispacy\n",
      "Version: 0.5.5\n",
      "Summary: A full SpaCy pipeline and models for scientific/biomedical documents.\n",
      "Home-page: https://allenai.github.io/scispacy/\n",
      "Author: Allen Institute for Artificial Intelligence\n",
      "Author-email: ai2-info@allenai.org\n",
      "License: Apache\n",
      "Location: /Users/devanshkochar/anaconda3/lib/python3.11/site-packages\n",
      "Requires: conllu, joblib, nmslib-metabrainz, numpy, pysbd, requests, scikit-learn, scipy, spacy\n",
      "Required-by: \n",
      "Note: you may need to restart the kernel to use updated packages.\n"
     ]
    }
   ],
   "source": [
    "pip show spacy scispacy"
   ]
  },
  {
   "cell_type": "code",
   "execution_count": 6,
   "id": "35090d2a-8d6e-4da4-b5b7-f024a0b6140d",
   "metadata": {},
   "outputs": [
    {
     "name": "stderr",
     "output_type": "stream",
     "text": [
      "/Users/devanshkochar/anaconda3/lib/python3.11/site-packages/tqdm/auto.py:21: TqdmWarning: IProgress not found. Please update jupyter and ipywidgets. See https://ipywidgets.readthedocs.io/en/stable/user_install.html\n",
      "  from .autonotebook import tqdm as notebook_tqdm\n"
     ]
    },
    {
     "name": "stdout",
     "output_type": "stream",
     "text": [
      "[['Apple', 'U.K.', '$1 billion']]\n"
     ]
    }
   ],
   "source": [
    "import spacy\n",
    "\n",
    "nlp = spacy.load(\"en_core_web_sm\")  # Load spaCy model\n",
    "text = \"Apple is looking at buying U.K. startup for $1 billion.\"\n",
    "\n",
    "doc = nlp(text)\n",
    "\n",
    "spacy_entities = [[ent.text for ent in doc.ents]]\n",
    "print(spacy_entities)\n"
   ]
  },
  {
   "cell_type": "code",
   "execution_count": null,
   "id": "60c50ec6-c9d3-4eb8-a915-0d89d3dbfd16",
   "metadata": {},
   "outputs": [],
   "source": []
  }
 ],
 "metadata": {
  "kernelspec": {
   "display_name": "Python 3 (ipykernel)",
   "language": "python",
   "name": "python3"
  },
  "language_info": {
   "codemirror_mode": {
    "name": "ipython",
    "version": 3
   },
   "file_extension": ".py",
   "mimetype": "text/x-python",
   "name": "python",
   "nbconvert_exporter": "python",
   "pygments_lexer": "ipython3",
   "version": "3.11.8"
  }
 },
 "nbformat": 4,
 "nbformat_minor": 5
}
